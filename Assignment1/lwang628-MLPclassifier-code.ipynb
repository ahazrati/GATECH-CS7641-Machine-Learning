{
 "cells": [
  {
   "cell_type": "code",
   "execution_count": null,
   "metadata": {},
   "outputs": [],
   "source": [
    "import numpy as np\n",
    "import pandas as pd\n",
    "from sklearn.neural_network import MLPClassifier\n",
    "from sklearn.metrics import accuracy_score\n",
    "import csv\n",
    "import time\n",
    "\n",
    "import matplotlib.pyplot as plt\n",
    "%matplotlib inline\n",
    "\n",
    "\n",
    "newdata = pd.read_csv(\"census-encoded-62.csv\",header = None)   \n",
    "X_train = newdata.drop([62],axis = 1).values[:5000]\n",
    "y_train = newdata[62].values[:5000]"
   ]
  },
  {
   "cell_type": "code",
   "execution_count": null,
   "metadata": {
    "scrolled": false
   },
   "outputs": [],
   "source": [
    "# Compute Baseline for Part I-challenge\n",
    "TRAINING_ITERATIONS = [i*100 for i in range(100)]\n",
    "REPEAT = 3\n",
    "\n",
    "for n in range(REPEAT):\n",
    "    iterdata = []\n",
    "    for iteration in TRAINING_ITERATIONS:\n",
    "        clf = MLPClassifier(hidden_layer_sizes = (30,),max_iter = iteration + 1, alpha = 0)\n",
    "        start = time.time()\n",
    "        clf.fit(X_train,y_train)\n",
    "        end = time.time()\n",
    "        training_time = end - start\n",
    "\n",
    "        # 1000 instances         \n",
    "        pred = clf.predict(X_train[:1000])\n",
    "        accuracy = accuracy_score(pred,y_train[:1000])\n",
    "        error = sum([0.5*((pred[i] - y_train[i])**2) for i in range(1000)])\n",
    "        iterdata.append([iteration,accuracy,error,training_time])\n",
    "\n",
    "    output_name = \"backprop_ANN_{}.csv\".format(n)\n",
    "    with open(output_name,'w') as resultFile:\n",
    "        wr = csv.writer(resultFile, dialect='excel')\n",
    "        wr.writerows(iterdata) \n",
    "        print(output_name)   "
   ]
  },
  {
   "cell_type": "code",
   "execution_count": null,
   "metadata": {},
   "outputs": [],
   "source": [
    "# weights after converging\n",
    "clf.coefs_"
   ]
  },
  {
   "cell_type": "code",
   "execution_count": null,
   "metadata": {},
   "outputs": [],
   "source": [
    "# bias after converging\n",
    "clf.intercepts_ "
   ]
  }
 ],
 "metadata": {
  "kernelspec": {
   "display_name": "Python 3",
   "language": "python",
   "name": "python3"
  },
  "language_info": {
   "codemirror_mode": {
    "name": "ipython",
    "version": 3
   },
   "file_extension": ".py",
   "mimetype": "text/x-python",
   "name": "python",
   "nbconvert_exporter": "python",
   "pygments_lexer": "ipython3",
   "version": "3.6.2"
  }
 },
 "nbformat": 4,
 "nbformat_minor": 2
}
